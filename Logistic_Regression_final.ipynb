{
 "cells": [
  {
   "cell_type": "code",
   "execution_count": 1,
   "id": "66507a02",
   "metadata": {
    "id": "66507a02"
   },
   "outputs": [],
   "source": [
    "import numpy as np\n",
    "import pandas as pd\n",
    "import matplotlib.pyplot as plt"
   ]
  },
  {
   "cell_type": "code",
   "execution_count": 2,
   "id": "g1i_aVAuKwbO",
   "metadata": {
    "id": "g1i_aVAuKwbO"
   },
   "outputs": [],
   "source": [
    "X_train = [[0.346,0.780], [0.303,0.439],[0.358,0.729],[0.602,0.863],[0.790,0.753],[0.611,0.965]]\n",
    "y_train = [0,0,0,1,1,1]\n",
    "\n",
    "X_test = [[0.959,0.382], [0.750,0.306], [0.395,0.760], [0.823,0.764], [0.761,0.874], [0.844,0.435]]\n",
    "y_test = [0,0,0,1,1,1]\n",
    "\n",
    "X_train = np.array(X_train)\n",
    "Y_train = np.array(y_train)\n",
    "X_test = np.array(X_test)\n",
    "Y_test = np.array(y_test)"
   ]
  },
  {
   "cell_type": "code",
   "execution_count": 3,
   "id": "DMnYsefVoTft",
   "metadata": {
    "colab": {
     "base_uri": "https://localhost:8080/"
    },
    "id": "DMnYsefVoTft",
    "outputId": "754116f9-31c4-4922-8f3e-bbfd4a7c1fbc"
   },
   "outputs": [
    {
     "name": "stdout",
     "output_type": "stream",
     "text": [
      "Shape of X_train :  (6, 2)\n",
      "Shape of Y_train :  (6,)\n",
      "Shape of X_test :  (6, 2)\n",
      "Shape of Y_test :  (6,)\n"
     ]
    }
   ],
   "source": [
    "print('Shape of X_train : ', X_train.shape)\n",
    "print('Shape of Y_train : ', Y_train.shape)\n",
    "\n",
    "print('Shape of X_test : ', X_test.shape)\n",
    "print('Shape of Y_test : ', Y_test.shape)"
   ]
  },
  {
   "cell_type": "code",
   "execution_count": 4,
   "id": "MkfJsFY2qRLU",
   "metadata": {
    "id": "MkfJsFY2qRLU"
   },
   "outputs": [],
   "source": [
    "def sigmoid(x):\n",
    "  return 1/(1+ np.exp(-x))"
   ]
  },
  {
   "cell_type": "code",
   "execution_count": 8,
   "id": "FVSWaLBgU-Gg",
   "metadata": {
    "id": "FVSWaLBgU-Gg"
   },
   "outputs": [],
   "source": [
    "def model(X,Y,learning_rate=0.01,iter=100):\n",
    "    m = X_train.shape[1]\n",
    "    n = X_train.shape[0]\n",
    "   \n",
    "    B = -1\n",
    "    #W = np.zeros((6,1))\n",
    "    W = np.array([1.5,0.5])\n",
    "\n",
    "    cost_list =[]\n",
    "\n",
    "    for i in range(iter):\n",
    "      for j in range(len(X)):\n",
    "        Z = np.dot(W,X[j]) + B\n",
    "        A = sigmoid(Z)\n",
    "        dW = (1/m) * np.dot(A-Y[j],X[j])\n",
    "        dB = (1/m) * np.sum(A-Y[j])\n",
    "        W = W - learning_rate * dW.T\n",
    "        B = B - learning_rate * dB\n",
    "      cost = -(1/m) *np.sum(Y*np.log(sigmoid(np.dot(X,W.T)+B)) + (1-Y)*np.log(1-sigmoid(np.dot(X,W.T)+B)))\n",
    "\n",
    "      cost_list.append(cost)\n",
    "\n",
    "      if(i == 1):\n",
    "        print(\"W = \", W)\n",
    "        print(\"B = \",B)\n",
    "        print(\"Cross Entropy Error Function after\", i, \"iteration is: \", cost)\n",
    "        print('The logistic model P(y=1|x1,x2) is: \\n', A)\n",
    "      if(i%(iter/10) == 0):\n",
    "        print(\"Cross Entropy Error Function after\", i, \"iteration is: \", cost)\n",
    "\n",
    "    return W,B,cost_list\n"
   ]
  },
  {
   "cell_type": "code",
   "execution_count": 9,
   "id": "6c5a941f",
   "metadata": {
    "colab": {
     "base_uri": "https://localhost:8080/"
    },
    "id": "6c5a941f",
    "outputId": "e56bcbec-0e6d-49a9-e571-ff2a28345bb5"
   },
   "outputs": [
    {
     "name": "stdout",
     "output_type": "stream",
     "text": [
      "Cross Entropy Error Function after 0 iteration is:  1.6669074269981987\n",
      "W =  [1.53612616 0.51739964]\n",
      "B =  -1.0117732408457443\n",
      "Cross Entropy Error Function after 1 iteration is:  1.6630660083987943\n",
      "The logistic model P(y=1|x1,x2) is: \n",
      " 0.5936978427941283\n",
      "Cross Entropy Error Function after 25000 iteration is:  0.028677517117260964\n",
      "Cross Entropy Error Function after 50000 iteration is:  0.014598707352406442\n",
      "Cross Entropy Error Function after 75000 iteration is:  0.009805373925452006\n",
      "Cross Entropy Error Function after 100000 iteration is:  0.007386167210650619\n",
      "Cross Entropy Error Function after 125000 iteration is:  0.005926471111481545\n",
      "Cross Entropy Error Function after 150000 iteration is:  0.00494957689906003\n",
      "Cross Entropy Error Function after 175000 iteration is:  0.004249788296695725\n",
      "Cross Entropy Error Function after 200000 iteration is:  0.003723764160927053\n",
      "Cross Entropy Error Function after 225000 iteration is:  0.0033138849426556415\n"
     ]
    }
   ],
   "source": [
    "iteration = 250000\n",
    "learning_rate = 0.1\n",
    "W,B,cost_list = model(X_train,Y_train,learning_rate=learning_rate,iter=iteration)"
   ]
  },
  {
   "cell_type": "code",
   "execution_count": 10,
   "id": "171af9e1",
   "metadata": {
    "colab": {
     "base_uri": "https://localhost:8080/",
     "height": 286
    },
    "id": "171af9e1",
    "outputId": "5b5cf24a-98ea-4914-ea99-92ab2a2d5afc"
   },
   "outputs": [
    {
     "data": {
      "text/plain": [
       "[<matplotlib.lines.Line2D at 0x7fedb1822100>]"
      ]
     },
     "execution_count": 10,
     "metadata": {},
     "output_type": "execute_result"
    },
    {
     "data": {
      "image/png": "[encoded data removed]",
      "text/plain": [
       "<Figure size 432x288 with 1 Axes>"
      ]
     },
     "metadata": {
      "needs_background": "light"
     },
     "output_type": "display_data"
    }
   ],
   "source": [
    "plt.plot(np.arange(iteration),cost_list)"
   ]
  },
  {
   "cell_type": "code",
   "execution_count": 11,
   "id": "S-qoY6veVreu",
   "metadata": {
    "id": "S-qoY6veVreu"
   },
   "outputs": [],
   "source": [
    "def accuracy(X,Y,W,B):\n",
    "  Z = np.dot(X,W.T) + B\n",
    "  A = sigmoid(Z)\n",
    "\n",
    "  A = A>0.5\n",
    "  A = np.array(A,dtype=\"int64\")\n",
    "  print(A)\n",
    "  print(Y)\n",
    "  acc = (np.sum(A==Y)/len(Y))*100\n",
    "  print(\"Accuracy of the model is : \", acc,\"%\")"
   ]
  },
  {
   "cell_type": "code",
   "execution_count": 12,
   "id": "xH7JBJrqVuky",
   "metadata": {
    "colab": {
     "base_uri": "https://localhost:8080/"
    },
    "id": "xH7JBJrqVuky",
    "outputId": "396b6cb2-d01d-44f0-e5e0-2006e7353f5a"
   },
   "outputs": [
    {
     "name": "stdout",
     "output_type": "stream",
     "text": [
      "[1 1 0 1 1 1]\n",
      "[0 0 0 1 1 1]\n",
      "Accuracy of the model is :  66.66666666666666 %\n"
     ]
    },
    {
     "data": {
      "text/plain": [
       "(array([1, 1, 0, 1, 1, 1]), array([0, 0, 0, 1, 1, 1]))"
      ]
     },
     "execution_count": 12,
     "metadata": {},
     "output_type": "execute_result"
    }
   ],
   "source": [
    "accuracy(X_test,Y_test,W,B)\n",
    "Z = np.dot(X_test,W.T) + B\n",
    "A = sigmoid(Z)\n",
    "A = A>0.5\n",
    "A = np.array(A,dtype=\"int64\")\n",
    "A,Y_test"
   ]
  },
  {
   "cell_type": "code",
   "execution_count": 13,
   "id": "_to0roW3WATL",
   "metadata": {
    "colab": {
     "base_uri": "https://localhost:8080/"
    },
    "id": "_to0roW3WATL",
    "outputId": "e564b138-3ec9-4020-e6d6-bc4909d90d3e"
   },
   "outputs": [
    {
     "name": "stdout",
     "output_type": "stream",
     "text": [
      "\n",
      "\n",
      " The solution to 5b(iii) \n",
      "               precision    recall  f1-score   support\n",
      "\n",
      "           0       1.00      0.33      0.50         3\n",
      "           1       0.60      1.00      0.75         3\n",
      "\n",
      "    accuracy                           0.67         6\n",
      "   macro avg       0.80      0.67      0.62         6\n",
      "weighted avg       0.80      0.67      0.62         6\n",
      "\n"
     ]
    }
   ],
   "source": [
    "from sklearn.metrics import classification_report\n",
    "print('\\n\\n The solution to 5b(iii) \\n',classification_report(Y_test,A))"
   ]
  },
  {
   "cell_type": "code",
   "execution_count": null,
   "id": "63qAxFjSXutK",
   "metadata": {
    "id": "63qAxFjSXutK"
   },
   "outputs": [],
   "source": []
  }
 ],
 "metadata": {
  "colab": {
   "name": "Logistic_Regression2.ipynb",
   "provenance": []
  },
  "kernelspec": {
   "display_name": "Python 3.9.6 64-bit",
   "language": "python",
   "name": "python396jvsc74a57bd0aee8b7b246df8f9039afb4144a1f6fd8d2ca17a180786b69acc140d282b71a49"
  },
  "language_info": {
   "codemirror_mode": {
    "name": "ipython",
    "version": 3
   },
   "file_extension": ".py",
   "mimetype": "text/x-python",
   "name": "python",
   "nbconvert_exporter": "python",
   "pygments_lexer": "ipython3",
   "version": "3.9.6"
  }
 },
 "nbformat": 4,
 "nbformat_minor": 5
}
